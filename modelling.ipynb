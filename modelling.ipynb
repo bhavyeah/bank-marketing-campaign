{
 "cells": [
  {
   "cell_type": "code",
   "execution_count": 1,
   "id": "fd245c61",
   "metadata": {},
   "outputs": [],
   "source": [
    "import pandas as pd\n",
    "\n",
    "df = pd.read_csv('bank-additional-full.csv', delimiter=';')"
   ]
  },
  {
   "cell_type": "code",
   "execution_count": 2,
   "id": "c74ed454",
   "metadata": {},
   "outputs": [
    {
     "data": {
      "text/html": [
       "<div>\n",
       "<style scoped>\n",
       "    .dataframe tbody tr th:only-of-type {\n",
       "        vertical-align: middle;\n",
       "    }\n",
       "\n",
       "    .dataframe tbody tr th {\n",
       "        vertical-align: top;\n",
       "    }\n",
       "\n",
       "    .dataframe thead th {\n",
       "        text-align: right;\n",
       "    }\n",
       "</style>\n",
       "<table border=\"1\" class=\"dataframe\">\n",
       "  <thead>\n",
       "    <tr style=\"text-align: right;\">\n",
       "      <th></th>\n",
       "      <th>age</th>\n",
       "      <th>job</th>\n",
       "      <th>marital</th>\n",
       "      <th>education</th>\n",
       "      <th>default</th>\n",
       "      <th>housing</th>\n",
       "      <th>loan</th>\n",
       "      <th>contact</th>\n",
       "      <th>month</th>\n",
       "      <th>day_of_week</th>\n",
       "      <th>...</th>\n",
       "      <th>campaign</th>\n",
       "      <th>pdays</th>\n",
       "      <th>previous</th>\n",
       "      <th>poutcome</th>\n",
       "      <th>emp.var.rate</th>\n",
       "      <th>cons.price.idx</th>\n",
       "      <th>cons.conf.idx</th>\n",
       "      <th>euribor3m</th>\n",
       "      <th>nr.employed</th>\n",
       "      <th>y</th>\n",
       "    </tr>\n",
       "  </thead>\n",
       "  <tbody>\n",
       "    <tr>\n",
       "      <th>0</th>\n",
       "      <td>56</td>\n",
       "      <td>housemaid</td>\n",
       "      <td>married</td>\n",
       "      <td>basic.4y</td>\n",
       "      <td>no</td>\n",
       "      <td>no</td>\n",
       "      <td>no</td>\n",
       "      <td>telephone</td>\n",
       "      <td>may</td>\n",
       "      <td>mon</td>\n",
       "      <td>...</td>\n",
       "      <td>1</td>\n",
       "      <td>999</td>\n",
       "      <td>0</td>\n",
       "      <td>nonexistent</td>\n",
       "      <td>1.1</td>\n",
       "      <td>93.994</td>\n",
       "      <td>-36.4</td>\n",
       "      <td>4.857</td>\n",
       "      <td>5191.0</td>\n",
       "      <td>no</td>\n",
       "    </tr>\n",
       "    <tr>\n",
       "      <th>1</th>\n",
       "      <td>57</td>\n",
       "      <td>services</td>\n",
       "      <td>married</td>\n",
       "      <td>high.school</td>\n",
       "      <td>unknown</td>\n",
       "      <td>no</td>\n",
       "      <td>no</td>\n",
       "      <td>telephone</td>\n",
       "      <td>may</td>\n",
       "      <td>mon</td>\n",
       "      <td>...</td>\n",
       "      <td>1</td>\n",
       "      <td>999</td>\n",
       "      <td>0</td>\n",
       "      <td>nonexistent</td>\n",
       "      <td>1.1</td>\n",
       "      <td>93.994</td>\n",
       "      <td>-36.4</td>\n",
       "      <td>4.857</td>\n",
       "      <td>5191.0</td>\n",
       "      <td>no</td>\n",
       "    </tr>\n",
       "    <tr>\n",
       "      <th>2</th>\n",
       "      <td>37</td>\n",
       "      <td>services</td>\n",
       "      <td>married</td>\n",
       "      <td>high.school</td>\n",
       "      <td>no</td>\n",
       "      <td>yes</td>\n",
       "      <td>no</td>\n",
       "      <td>telephone</td>\n",
       "      <td>may</td>\n",
       "      <td>mon</td>\n",
       "      <td>...</td>\n",
       "      <td>1</td>\n",
       "      <td>999</td>\n",
       "      <td>0</td>\n",
       "      <td>nonexistent</td>\n",
       "      <td>1.1</td>\n",
       "      <td>93.994</td>\n",
       "      <td>-36.4</td>\n",
       "      <td>4.857</td>\n",
       "      <td>5191.0</td>\n",
       "      <td>no</td>\n",
       "    </tr>\n",
       "    <tr>\n",
       "      <th>3</th>\n",
       "      <td>40</td>\n",
       "      <td>admin.</td>\n",
       "      <td>married</td>\n",
       "      <td>basic.6y</td>\n",
       "      <td>no</td>\n",
       "      <td>no</td>\n",
       "      <td>no</td>\n",
       "      <td>telephone</td>\n",
       "      <td>may</td>\n",
       "      <td>mon</td>\n",
       "      <td>...</td>\n",
       "      <td>1</td>\n",
       "      <td>999</td>\n",
       "      <td>0</td>\n",
       "      <td>nonexistent</td>\n",
       "      <td>1.1</td>\n",
       "      <td>93.994</td>\n",
       "      <td>-36.4</td>\n",
       "      <td>4.857</td>\n",
       "      <td>5191.0</td>\n",
       "      <td>no</td>\n",
       "    </tr>\n",
       "    <tr>\n",
       "      <th>4</th>\n",
       "      <td>56</td>\n",
       "      <td>services</td>\n",
       "      <td>married</td>\n",
       "      <td>high.school</td>\n",
       "      <td>no</td>\n",
       "      <td>no</td>\n",
       "      <td>yes</td>\n",
       "      <td>telephone</td>\n",
       "      <td>may</td>\n",
       "      <td>mon</td>\n",
       "      <td>...</td>\n",
       "      <td>1</td>\n",
       "      <td>999</td>\n",
       "      <td>0</td>\n",
       "      <td>nonexistent</td>\n",
       "      <td>1.1</td>\n",
       "      <td>93.994</td>\n",
       "      <td>-36.4</td>\n",
       "      <td>4.857</td>\n",
       "      <td>5191.0</td>\n",
       "      <td>no</td>\n",
       "    </tr>\n",
       "  </tbody>\n",
       "</table>\n",
       "<p>5 rows × 21 columns</p>\n",
       "</div>"
      ],
      "text/plain": [
       "   age        job  marital    education  default housing loan    contact  \\\n",
       "0   56  housemaid  married     basic.4y       no      no   no  telephone   \n",
       "1   57   services  married  high.school  unknown      no   no  telephone   \n",
       "2   37   services  married  high.school       no     yes   no  telephone   \n",
       "3   40     admin.  married     basic.6y       no      no   no  telephone   \n",
       "4   56   services  married  high.school       no      no  yes  telephone   \n",
       "\n",
       "  month day_of_week  ...  campaign  pdays  previous     poutcome emp.var.rate  \\\n",
       "0   may         mon  ...         1    999         0  nonexistent          1.1   \n",
       "1   may         mon  ...         1    999         0  nonexistent          1.1   \n",
       "2   may         mon  ...         1    999         0  nonexistent          1.1   \n",
       "3   may         mon  ...         1    999         0  nonexistent          1.1   \n",
       "4   may         mon  ...         1    999         0  nonexistent          1.1   \n",
       "\n",
       "   cons.price.idx  cons.conf.idx  euribor3m  nr.employed   y  \n",
       "0          93.994          -36.4      4.857       5191.0  no  \n",
       "1          93.994          -36.4      4.857       5191.0  no  \n",
       "2          93.994          -36.4      4.857       5191.0  no  \n",
       "3          93.994          -36.4      4.857       5191.0  no  \n",
       "4          93.994          -36.4      4.857       5191.0  no  \n",
       "\n",
       "[5 rows x 21 columns]"
      ]
     },
     "execution_count": 2,
     "metadata": {},
     "output_type": "execute_result"
    }
   ],
   "source": [
    "df.head()"
   ]
  },
  {
   "cell_type": "code",
   "execution_count": 3,
   "id": "00d77f4c",
   "metadata": {},
   "outputs": [
    {
     "data": {
      "text/plain": [
       "Index(['age', 'job', 'marital', 'education', 'default', 'housing', 'loan',\n",
       "       'contact', 'month', 'day_of_week', 'duration', 'campaign', 'pdays',\n",
       "       'previous', 'poutcome', 'emp.var.rate', 'cons.price.idx',\n",
       "       'cons.conf.idx', 'euribor3m', 'nr.employed', 'y'],\n",
       "      dtype='object')"
      ]
     },
     "execution_count": 3,
     "metadata": {},
     "output_type": "execute_result"
    }
   ],
   "source": [
    "df.columns"
   ]
  },
  {
   "cell_type": "code",
   "execution_count": 4,
   "id": "51bd6ec4",
   "metadata": {},
   "outputs": [
    {
     "data": {
      "text/plain": [
       "(41188, 21)"
      ]
     },
     "execution_count": 4,
     "metadata": {},
     "output_type": "execute_result"
    }
   ],
   "source": [
    "df.shape"
   ]
  },
  {
   "cell_type": "code",
   "execution_count": 5,
   "id": "bc6665f7",
   "metadata": {},
   "outputs": [
    {
     "data": {
      "text/plain": [
       "(41176, 21)"
      ]
     },
     "execution_count": 5,
     "metadata": {},
     "output_type": "execute_result"
    }
   ],
   "source": [
    "df.drop_duplicates(inplace=True)\n",
    "df.shape"
   ]
  },
  {
   "cell_type": "code",
   "execution_count": 6,
   "id": "79accd04",
   "metadata": {},
   "outputs": [],
   "source": [
    "# no null values found!\n",
    "# pd.isnull(df).sum()"
   ]
  },
  {
   "cell_type": "code",
   "execution_count": 7,
   "id": "d1c4b9b5",
   "metadata": {},
   "outputs": [],
   "source": [
    "# outlier detection & treatment with z-score method\n",
    "from scipy.stats import zscore\n",
    "import numpy as np\n",
    "\n",
    "# Selecting numeric columns\n",
    "df_numeric = df[['duration', 'campaign', 'pdays']]\n",
    "\n",
    "# Computing absolute z-scores (force conversion to array)\n",
    "z_scores = np.abs(zscore(df_numeric.to_numpy()))\n",
    "\n",
    "# Capping outliers using 95th percentile\n",
    "for i, col in enumerate(df_numeric.columns):\n",
    "    upper_limit = df[col].quantile(0.95)\n",
    "    df[col] = np.where(z_scores[:, i] > 3, upper_limit, df[col])"
   ]
  },
  {
   "cell_type": "code",
   "execution_count": 8,
   "id": "b8cd0cdb",
   "metadata": {},
   "outputs": [
    {
     "name": "stdout",
     "output_type": "stream",
     "text": [
      "Outlier counts BEFORE capping:\n",
      "age: 369 outliers\n",
      "duration: 605 outliers\n",
      "campaign: 908 outliers\n",
      "pdays: 0 outliers\n",
      "previous: 1064 outliers\n",
      "emp.var.rate: 0 outliers\n",
      "cons.price.idx: 0 outliers\n",
      "cons.conf.idx: 0 outliers\n",
      "euribor3m: 0 outliers\n",
      "nr.employed: 0 outliers\n",
      "\n",
      "Outlier counts AFTER capping:\n",
      "age: 421 outliers\n",
      "duration: 670 outliers\n",
      "campaign: 0 outliers\n",
      "pdays: 0 outliers\n",
      "previous: 0 outliers\n",
      "emp.var.rate: 0 outliers\n",
      "cons.price.idx: 0 outliers\n",
      "cons.conf.idx: 0 outliers\n",
      "euribor3m: 0 outliers\n",
      "nr.employed: 0 outliers\n"
     ]
    }
   ],
   "source": [
    "# List of numeric columns for outlier treatment\n",
    "numeric_cols = ['age', 'duration', 'campaign', 'pdays', 'previous', \n",
    "                'emp.var.rate', 'cons.price.idx', 'cons.conf.idx', \n",
    "                'euribor3m', 'nr.employed']\n",
    "\n",
    "# Z-score threshold\n",
    "threshold = 3\n",
    "\n",
    "# Report before capping\n",
    "print(\"Outlier counts BEFORE capping:\")\n",
    "before_counts = {}\n",
    "for col in numeric_cols:\n",
    "    z_scores = zscore(df[col])\n",
    "    before_counts[col] = (np.abs(z_scores) > threshold).sum()\n",
    "    print(f\"{col}: {before_counts[col]} outliers\")\n",
    "\n",
    "# Apply Z-score capping\n",
    "for col in numeric_cols:\n",
    "    z_scores = zscore(df[col])\n",
    "    abs_z_scores = np.abs(z_scores)\n",
    "    \n",
    "    # Get upper and lower caps\n",
    "    upper_cap = df.loc[abs_z_scores < threshold, col].max()\n",
    "    lower_cap = df.loc[abs_z_scores < threshold, col].min()\n",
    "    \n",
    "    # Cap values\n",
    "    df[col] = np.where(df[col] > upper_cap, upper_cap,\n",
    "                       np.where(df[col] < lower_cap, lower_cap, df[col]))\n",
    "\n",
    "\n",
    "# Report after capping\n",
    "print(\"\\nOutlier counts AFTER capping:\")\n",
    "after_counts = {}\n",
    "for col in numeric_cols:\n",
    "    z_scores = zscore(df[col])\n",
    "    after_counts[col] = (np.abs(z_scores) > threshold).sum()\n",
    "    print(f\"{col}: {after_counts[col]} outliers\")"
   ]
  },
  {
   "cell_type": "markdown",
   "id": "b55814b3",
   "metadata": {},
   "source": [
    "Outlier capping done for numeric columns and only the 'Duration' column had outliers."
   ]
  },
  {
   "cell_type": "code",
   "execution_count": 9,
   "id": "1d12de73",
   "metadata": {},
   "outputs": [],
   "source": [
    "# age IQR\n",
    "\n",
    "Q1 = df['age'].quantile(0.25)\n",
    "Q3 = df['age'].quantile(0.75)\n",
    "IQR = Q3 - Q1\n",
    "\n",
    "upper_bound = Q3 + 1.5 * IQR\n",
    "df['age'] = np.where(df['age'] > upper_bound, upper_bound, df['age'])"
   ]
  },
  {
   "cell_type": "code",
   "execution_count": 10,
   "id": "893ee8d1",
   "metadata": {},
   "outputs": [],
   "source": [
    "# Feature transformation using Encoding\n",
    "from sklearn.preprocessing import LabelEncoder\n",
    "\n",
    "# Label Encoding (for binary categorical columns)\n",
    "from sklearn.preprocessing import LabelEncoder\n",
    "\n",
    "le = LabelEncoder()\n",
    "for col in ['default', 'housing', 'loan', 'y']:\n",
    "    df[col] = le.fit_transform(df[col])"
   ]
  },
  {
   "cell_type": "code",
   "execution_count": 11,
   "id": "22d1b352",
   "metadata": {},
   "outputs": [],
   "source": [
    "# One hot encoding for multi-category columns\n",
    "\n",
    "df = pd.get_dummies(df, columns=['job', 'education', 'poutcome'], drop_first=True)"
   ]
  },
  {
   "cell_type": "code",
   "execution_count": 12,
   "id": "ce7d28a7",
   "metadata": {
    "scrolled": true
   },
   "outputs": [
    {
     "name": "stdout",
     "output_type": "stream",
     "text": [
      "<class 'pandas.core.frame.DataFrame'>\n",
      "Index: 41176 entries, 0 to 41187\n",
      "Data columns (total 38 columns):\n",
      " #   Column                         Non-Null Count  Dtype  \n",
      "---  ------                         --------------  -----  \n",
      " 0   age                            41176 non-null  float64\n",
      " 1   marital                        41176 non-null  object \n",
      " 2   default                        41176 non-null  int64  \n",
      " 3   housing                        41176 non-null  int64  \n",
      " 4   loan                           41176 non-null  int64  \n",
      " 5   contact                        41176 non-null  object \n",
      " 6   month                          41176 non-null  object \n",
      " 7   day_of_week                    41176 non-null  object \n",
      " 8   duration                       41176 non-null  float64\n",
      " 9   campaign                       41176 non-null  float64\n",
      " 10  pdays                          41176 non-null  float64\n",
      " 11  previous                       41176 non-null  int64  \n",
      " 12  emp.var.rate                   41176 non-null  float64\n",
      " 13  cons.price.idx                 41176 non-null  float64\n",
      " 14  cons.conf.idx                  41176 non-null  float64\n",
      " 15  euribor3m                      41176 non-null  float64\n",
      " 16  nr.employed                    41176 non-null  float64\n",
      " 17  y                              41176 non-null  int64  \n",
      " 18  job_blue-collar                41176 non-null  bool   \n",
      " 19  job_entrepreneur               41176 non-null  bool   \n",
      " 20  job_housemaid                  41176 non-null  bool   \n",
      " 21  job_management                 41176 non-null  bool   \n",
      " 22  job_retired                    41176 non-null  bool   \n",
      " 23  job_self-employed              41176 non-null  bool   \n",
      " 24  job_services                   41176 non-null  bool   \n",
      " 25  job_student                    41176 non-null  bool   \n",
      " 26  job_technician                 41176 non-null  bool   \n",
      " 27  job_unemployed                 41176 non-null  bool   \n",
      " 28  job_unknown                    41176 non-null  bool   \n",
      " 29  education_basic.6y             41176 non-null  bool   \n",
      " 30  education_basic.9y             41176 non-null  bool   \n",
      " 31  education_high.school          41176 non-null  bool   \n",
      " 32  education_illiterate           41176 non-null  bool   \n",
      " 33  education_professional.course  41176 non-null  bool   \n",
      " 34  education_university.degree    41176 non-null  bool   \n",
      " 35  education_unknown              41176 non-null  bool   \n",
      " 36  poutcome_nonexistent           41176 non-null  bool   \n",
      " 37  poutcome_success               41176 non-null  bool   \n",
      "dtypes: bool(20), float64(9), int64(5), object(4)\n",
      "memory usage: 6.8+ MB\n"
     ]
    }
   ],
   "source": [
    "df.info()"
   ]
  },
  {
   "cell_type": "code",
   "execution_count": 13,
   "id": "2c42684a",
   "metadata": {},
   "outputs": [],
   "source": [
    "# model-ready encoding + scaling pipeline\n",
    "\n",
    "from sklearn.preprocessing import LabelEncoder, StandardScaler\n",
    "\n",
    "# Making a copy to avoid changing original\n",
    "df_model = df.copy()\n",
    "\n",
    "# One-hot encode the remaining categorical columns with few categories\n",
    "categorical_onehot = ['marital', 'contact', 'month', 'day_of_week']\n",
    "df_model = pd.get_dummies(df_model, columns=categorical_onehot, drop_first=True)\n",
    "\n",
    "# Label encoding the target column (y)\n",
    "if df_model['y'].dtype == 'object':\n",
    "    le = LabelEncoder()\n",
    "    df_model['y'] = le.fit_transform(df_model['y'])\n",
    "\n",
    "# Identifying numerical columns for scaling\n",
    "numerical_cols = [\n",
    "    'age', 'duration', 'campaign', 'pdays', 'previous',\n",
    "    'emp.var.rate', 'cons.price.idx', 'cons.conf.idx', \n",
    "    'euribor3m', 'nr.employed'\n",
    "]\n",
    "\n",
    "# Standard scaling\n",
    "scaler = StandardScaler()\n",
    "df_model[numerical_cols] = scaler.fit_transform(df_model[numerical_cols])"
   ]
  },
  {
   "cell_type": "code",
   "execution_count": 14,
   "id": "50c2fab5",
   "metadata": {},
   "outputs": [
    {
     "name": "stdout",
     "output_type": "stream",
     "text": [
      "        age  default  housing  loan  duration  campaign  pdays  previous  \\\n",
      "0  1.585672        0        0     0  0.086230 -0.784028    0.0 -0.397773   \n",
      "1  1.684402        1        0     0 -0.474471 -0.784028    0.0 -0.397773   \n",
      "2 -0.290190        0        2     0 -0.088989 -0.784028    0.0 -0.397773   \n",
      "3  0.005999        0        0     0 -0.464459 -0.784028    0.0 -0.397773   \n",
      "4  1.585672        0        0     2  0.316518 -0.784028    0.0 -0.397773   \n",
      "\n",
      "   emp.var.rate  cons.price.idx  ...  month_jun  month_mar  month_may  \\\n",
      "0      0.648101        0.722628  ...      False      False       True   \n",
      "1      0.648101        0.722628  ...      False      False       True   \n",
      "2      0.648101        0.722628  ...      False      False       True   \n",
      "3      0.648101        0.722628  ...      False      False       True   \n",
      "4      0.648101        0.722628  ...      False      False       True   \n",
      "\n",
      "   month_nov  month_oct  month_sep  day_of_week_mon  day_of_week_thu  \\\n",
      "0      False      False      False             True            False   \n",
      "1      False      False      False             True            False   \n",
      "2      False      False      False             True            False   \n",
      "3      False      False      False             True            False   \n",
      "4      False      False      False             True            False   \n",
      "\n",
      "   day_of_week_tue  day_of_week_wed  \n",
      "0            False            False  \n",
      "1            False            False  \n",
      "2            False            False  \n",
      "3            False            False  \n",
      "4            False            False  \n",
      "\n",
      "[5 rows x 51 columns]\n"
     ]
    }
   ],
   "source": [
    "# training the df_model \n",
    "print(df_model.head())"
   ]
  },
  {
   "cell_type": "markdown",
   "id": "58f8df37",
   "metadata": {},
   "source": [
    "The necessary steps for cleaning the data have been performed."
   ]
  },
  {
   "cell_type": "markdown",
   "id": "6e2e3c98",
   "metadata": {},
   "source": [
    "# Model Selection"
   ]
  },
  {
   "cell_type": "markdown",
   "id": "07e9726c",
   "metadata": {},
   "source": [
    "### Logistic Regression"
   ]
  },
  {
   "cell_type": "code",
   "execution_count": 15,
   "id": "8f24bb6c",
   "metadata": {},
   "outputs": [],
   "source": [
    "# loading libraries\n",
    "\n",
    "from sklearn.linear_model import LogisticRegression\n",
    "from sklearn.model_selection import train_test_split, cross_val_score\n",
    "from sklearn.metrics import accuracy_score, confusion_matrix, classification_report"
   ]
  },
  {
   "cell_type": "code",
   "execution_count": 16,
   "id": "057cf704",
   "metadata": {},
   "outputs": [],
   "source": [
    "# split features and target\n",
    "X = df_model.drop('y', axis=1)\n",
    "y = df_model['y']\n",
    "\n",
    "# train-test split\n",
    "X_train, X_test, y_train, y_test = train_test_split(X, y, test_size=0.2, random_state=42, stratify=y)\n",
    "\n",
    "# initialize Logistic Regression\n",
    "log_reg = LogisticRegression(max_iter=1000, class_weight='balanced', random_state=42)\n",
    "\n",
    "# cross-validation accuracy\n",
    "cv_scores = cross_val_score(log_reg, X_train, y_train, cv=5, scoring='accuracy')\n",
    "\n",
    "# train on full training data\n",
    "log_reg.fit(X_train, y_train)\n",
    "\n",
    "# predictions\n",
    "y_pred = log_reg.predict(X_test)"
   ]
  },
  {
   "cell_type": "code",
   "execution_count": 17,
   "id": "2485da1e",
   "metadata": {},
   "outputs": [
    {
     "name": "stdout",
     "output_type": "stream",
     "text": [
      "Training Accuracy: 0.8576\n",
      "Test Accuracy: 0.8616\n",
      "Cross-validation Scores: [0.85761991 0.85686096 0.85458409 0.85777171 0.85913783]\n",
      "Mean CV Accuracy: 0.8572\n",
      "\n",
      "Confusion Matrix:\n",
      "[[6252 1056]\n",
      " [  84  844]]\n",
      "\n",
      "Classification Report:\n",
      "              precision    recall  f1-score   support\n",
      "\n",
      "           0       0.99      0.86      0.92      7308\n",
      "           1       0.44      0.91      0.60       928\n",
      "\n",
      "    accuracy                           0.86      8236\n",
      "   macro avg       0.72      0.88      0.76      8236\n",
      "weighted avg       0.93      0.86      0.88      8236\n",
      "\n"
     ]
    }
   ],
   "source": [
    "# metrics\n",
    "print(f\"Training Accuracy: {log_reg.score(X_train, y_train):.4f}\")\n",
    "print(f\"Test Accuracy: {accuracy_score(y_test, y_pred):.4f}\")\n",
    "print(f\"Cross-validation Scores: {cv_scores}\")\n",
    "print(f\"Mean CV Accuracy: {cv_scores.mean():.4f}\")\n",
    "print(\"\\nConfusion Matrix:\")\n",
    "print(confusion_matrix(y_test, y_pred))\n",
    "print(\"\\nClassification Report:\")\n",
    "print(classification_report(y_test, y_pred))"
   ]
  },
  {
   "cell_type": "markdown",
   "id": "93c6ab9d",
   "metadata": {},
   "source": [
    "### Decision Tree Classifier"
   ]
  },
  {
   "cell_type": "code",
   "execution_count": 18,
   "id": "3f33c6b6",
   "metadata": {},
   "outputs": [],
   "source": [
    "# plain DecisionTreeClassifier\n",
    "\n",
    "# from sklearn.tree import DecisionTreeClassifier\n",
    "\n",
    "# # training the Decision Tree model\n",
    "# dt_model = DecisionTreeClassifier(random_state=42)  \n",
    "# dt_model.fit(X_train, y_train)\n",
    "\n",
    "# # Predictions\n",
    "# y_pred_dt = dt_model.predict(X_test)\n",
    "\n",
    "# # Evaluation\n",
    "# print(\"Accuracy:\", accuracy_score(y_test, y_pred_dt))\n",
    "# print(\"\\nClassification Report:\\n\", classification_report(y_test, y_pred_dt))\n",
    "# print(\"\\nConfusion Matrix:\\n\", confusion_matrix(y_test, y_pred_dt))"
   ]
  },
  {
   "cell_type": "code",
   "execution_count": 19,
   "id": "1d5864d9",
   "metadata": {},
   "outputs": [
    {
     "name": "stdout",
     "output_type": "stream",
     "text": [
      "Best Parameters: {'criterion': 'gini', 'max_depth': 5, 'min_samples_leaf': 4, 'min_samples_split': 2}\n",
      "Accuracy: 0.9123360854783875\n",
      "\n",
      "Classification Report:\n",
      "               precision    recall  f1-score   support\n",
      "\n",
      "           0       0.95      0.96      0.95      7308\n",
      "           1       0.62      0.56      0.59       928\n",
      "\n",
      "    accuracy                           0.91      8236\n",
      "   macro avg       0.78      0.76      0.77      8236\n",
      "weighted avg       0.91      0.91      0.91      8236\n",
      "\n",
      "\n",
      "Confusion Matrix:\n",
      " [[6990  318]\n",
      " [ 404  524]]\n"
     ]
    }
   ],
   "source": [
    "from sklearn.tree import DecisionTreeClassifier\n",
    "from sklearn.model_selection import GridSearchCV\n",
    "\n",
    "# Parameter grid\n",
    "param_grid = {\n",
    "    'max_depth': [3, 5, 7, 10, None],  \n",
    "    'min_samples_split': [2, 5, 10],\n",
    "    'min_samples_leaf': [1, 2, 4],\n",
    "    'criterion': ['gini', 'entropy']  \n",
    "}\n",
    "\n",
    "# Model\n",
    "dt = DecisionTreeClassifier(random_state=42)\n",
    "\n",
    "# Grid search\n",
    "grid_search = GridSearchCV(estimator=dt,\n",
    "                           param_grid=param_grid,\n",
    "                           cv=5,\n",
    "                           scoring='accuracy',\n",
    "                           n_jobs=-1)\n",
    "\n",
    "grid_search.fit(X_train, y_train)\n",
    "\n",
    "# Best parameters\n",
    "print(\"Best Parameters:\", grid_search.best_params_)\n",
    "\n",
    "# Best model\n",
    "best_dt = grid_search.best_estimator_\n",
    "\n",
    "# Predictions\n",
    "y_pred_best = best_dt.predict(X_test)\n",
    "\n",
    "# Evaluation\n",
    "print(\"Accuracy:\", accuracy_score(y_test, y_pred_best))\n",
    "print(\"\\nClassification Report:\\n\", classification_report(y_test, y_pred_best))\n",
    "print(\"\\nConfusion Matrix:\\n\", confusion_matrix(y_test, y_pred_best))"
   ]
  },
  {
   "cell_type": "code",
   "execution_count": 20,
   "id": "77219a3f",
   "metadata": {},
   "outputs": [
    {
     "name": "stdout",
     "output_type": "stream",
     "text": [
      "                          Feature  Importance\n",
      "4                        duration    0.508516\n",
      "12                    nr.employed    0.349553\n",
      "32               poutcome_success    0.043254\n",
      "11                      euribor3m    0.035085\n",
      "10                  cons.conf.idx    0.033143\n",
      "44                      month_oct    0.012255\n",
      "9                  cons.price.idx    0.007934\n",
      "36              contact_telephone    0.004231\n",
      "42                      month_may    0.004226\n",
      "46                day_of_week_mon    0.001013\n",
      "23                    job_unknown    0.000790\n",
      "37                      month_aug    0.000000\n",
      "31           poutcome_nonexistent    0.000000\n",
      "30              education_unknown    0.000000\n",
      "33                marital_married    0.000000\n",
      "34                 marital_single    0.000000\n",
      "35                marital_unknown    0.000000\n",
      "0                             age    0.000000\n",
      "41                      month_mar    0.000000\n",
      "38                      month_dec    0.000000\n",
      "39                      month_jul    0.000000\n",
      "40                      month_jun    0.000000\n",
      "28  education_professional.course    0.000000\n",
      "43                      month_nov    0.000000\n",
      "45                      month_sep    0.000000\n",
      "47                day_of_week_thu    0.000000\n",
      "48                day_of_week_tue    0.000000\n",
      "29    education_university.degree    0.000000\n",
      "25             education_basic.9y    0.000000\n",
      "27           education_illiterate    0.000000\n",
      "15                  job_housemaid    0.000000\n",
      "2                         housing    0.000000\n",
      "3                            loan    0.000000\n",
      "5                        campaign    0.000000\n",
      "6                           pdays    0.000000\n",
      "7                        previous    0.000000\n",
      "8                    emp.var.rate    0.000000\n",
      "13                job_blue-collar    0.000000\n",
      "14               job_entrepreneur    0.000000\n",
      "16                 job_management    0.000000\n",
      "26          education_high.school    0.000000\n",
      "17                    job_retired    0.000000\n",
      "18              job_self-employed    0.000000\n",
      "19                   job_services    0.000000\n",
      "20                    job_student    0.000000\n",
      "21                 job_technician    0.000000\n",
      "22                 job_unemployed    0.000000\n",
      "24             education_basic.6y    0.000000\n",
      "1                         default    0.000000\n",
      "49                day_of_week_wed    0.000000\n"
     ]
    }
   ],
   "source": [
    "# Feature importance\n",
    "import pandas as pd\n",
    "feat_importance = pd.DataFrame({\n",
    "    'Feature': X_train.columns,\n",
    "    'Importance': best_dt.feature_importances_\n",
    "}).sort_values(by='Importance', ascending=False)\n",
    "\n",
    "print(feat_importance)"
   ]
  },
  {
   "cell_type": "markdown",
   "id": "3fd57381",
   "metadata": {},
   "source": [
    "### Random Forest"
   ]
  },
  {
   "cell_type": "code",
   "execution_count": 21,
   "id": "34d56312",
   "metadata": {},
   "outputs": [],
   "source": [
    "from sklearn.ensemble import RandomForestRegressor\n",
    "from sklearn.model_selection import train_test_split\n",
    "from sklearn.metrics import r2_score, mean_squared_error\n",
    "\n",
    "X_train, X_test, y_train, y_test = train_test_split(X, y, test_size=0.2, random_state=42)\n",
    "\n",
    "# Random Forest model\n",
    "rf_model = RandomForestRegressor(\n",
    "    n_estimators=100,\n",
    "    random_state=42,\n",
    "    n_jobs=-1\n",
    ")\n",
    "rf_model.fit(X_train, y_train)\n",
    "\n",
    "# Predictions\n",
    "y_pred = rf_model.predict(X_test)\n",
    "\n",
    "# Evaluation\n",
    "r2 = r2_score(y_test, y_pred)\n",
    "rmse = np.sqrt(mean_squared_error(y_test, y_pred))"
   ]
  },
  {
   "cell_type": "code",
   "execution_count": 22,
   "id": "d2164ee2",
   "metadata": {},
   "outputs": [
    {
     "name": "stdout",
     "output_type": "stream",
     "text": [
      "Random Forest R² Score: 0.4151\n",
      "Random Forest RMSE: 0.2466\n"
     ]
    }
   ],
   "source": [
    "print(f\"Random Forest R² Score: {r2:.4f}\")\n",
    "print(f\"Random Forest RMSE: {rmse:.4f}\")"
   ]
  },
  {
   "cell_type": "code",
   "execution_count": 23,
   "id": "3e8a5eb6",
   "metadata": {},
   "outputs": [
    {
     "name": "stdout",
     "output_type": "stream",
     "text": [
      "\n",
      "Top 10 Important Features:\n",
      "             Feature  Importance\n",
      "4           duration    0.326841\n",
      "12       nr.employed    0.157336\n",
      "0                age    0.089557\n",
      "11         euribor3m    0.082881\n",
      "5           campaign    0.035177\n",
      "10     cons.conf.idx    0.024657\n",
      "32  poutcome_success    0.020333\n",
      "2            housing    0.015659\n",
      "9     cons.price.idx    0.013559\n",
      "3               loan    0.012479\n"
     ]
    }
   ],
   "source": [
    "# Feature importance\n",
    "importances = pd.DataFrame({\n",
    "    'Feature': X.columns,\n",
    "    'Importance': rf_model.feature_importances_\n",
    "}).sort_values(by='Importance', ascending=False)\n",
    "\n",
    "print(\"\\nTop 10 Important Features:\")\n",
    "print(importances.head(10))"
   ]
  },
  {
   "cell_type": "markdown",
   "id": "0d6bc7de",
   "metadata": {},
   "source": [
    "### XGBoost"
   ]
  },
  {
   "cell_type": "code",
   "execution_count": 24,
   "id": "96c81fdf",
   "metadata": {},
   "outputs": [],
   "source": [
    "from xgboost import XGBRegressor\n",
    "\n",
    "# Initialize model\n",
    "xgb_model = XGBRegressor(\n",
    "    n_estimators=200,        # number of trees\n",
    "    learning_rate=0.1,      # step size shrinkage\n",
    "    max_depth=6,            # depth of each tree\n",
    "    subsample=0.8,          # for regularization\n",
    "    colsample_bytree=0.8,   # fraction of features per tree\n",
    "    random_state=42\n",
    ")\n",
    "\n",
    "# Fit model\n",
    "xgb_model.fit(X_train, y_train)\n",
    "\n",
    "# Predictions\n",
    "y_pred_xgb = xgb_model.predict(X_test)\n",
    "\n",
    "# Metrics\n",
    "r2_xgb = r2_score(y_test, y_pred_xgb)\n",
    "rmse_xgb = np.sqrt(mean_squared_error(y_test, y_pred_xgb))"
   ]
  },
  {
   "cell_type": "code",
   "execution_count": 25,
   "id": "8a253db1",
   "metadata": {},
   "outputs": [
    {
     "name": "stdout",
     "output_type": "stream",
     "text": [
      "R² Score: 0.4233\n",
      "RMSE: 0.2449\n"
     ]
    }
   ],
   "source": [
    "print(f\"R² Score: {r2_xgb:.4f}\")\n",
    "print(f\"RMSE: {rmse_xgb:.4f}\")"
   ]
  },
  {
   "cell_type": "code",
   "execution_count": 26,
   "id": "6a31f125",
   "metadata": {},
   "outputs": [
    {
     "data": {
      "image/png": "[encoded data removed]",
      "text/plain": [
       "<Figure size 800x1000 with 1 Axes>"
      ]
     },
     "metadata": {},
     "output_type": "display_data"
    }
   ],
   "source": [
    "# Feature importance\n",
    "import matplotlib.pyplot as plt\n",
    "import seaborn as sns\n",
    "\n",
    "feature_importance = xgb_model.feature_importances_\n",
    "features = X_train.columns\n",
    "importance_df = (\n",
    "    pd.DataFrame({'Feature': features, 'Importance': feature_importance})\n",
    "    .sort_values(by='Importance', ascending=False)\n",
    ")\n",
    "\n",
    "plt.figure(figsize=(8, 10))\n",
    "sns.barplot(x='Importance', y='Feature', data=importance_df)\n",
    "plt.title(\"XGBoost Feature Importance\")\n",
    "plt.show()"
   ]
  },
  {
   "cell_type": "code",
   "execution_count": null,
   "id": "44d1b421",
   "metadata": {},
   "outputs": [],
   "source": []
  }
 ],
 "metadata": {
  "kernelspec": {
   "display_name": "Python 3 (ipykernel)",
   "language": "python",
   "name": "python3"
  },
  "language_info": {
   "codemirror_mode": {
    "name": "ipython",
    "version": 3
   },
   "file_extension": ".py",
   "mimetype": "text/x-python",
   "name": "python",
   "nbconvert_exporter": "python",
   "pygments_lexer": "ipython3",
   "version": "3.12.3"
  }
 },
 "nbformat": 4,
 "nbformat_minor": 5
}
